{
 "cells": [
  {
   "cell_type": "markdown",
   "id": "5e4789ce-0168-4104-97ed-0944eddfc0d8",
   "metadata": {},
   "source": [
    "# Data Science Tools and Ecosystem "
   ]
  },
  {
   "cell_type": "markdown",
   "id": "b782660d-dfb3-4784-bd37-027c5915d6c8",
   "metadata": {},
   "source": [
    "In this notebook, Data Science Tools and Ecosystem are summarized."
   ]
  },
  {
   "cell_type": "markdown",
   "id": "d0da534c-4a50-450c-99b5-cf488ee124df",
   "metadata": {},
   "source": [
    "Some of the popular languages that Data Scientists use are:\n",
    "\n",
    "1. Python\n",
    "2. R\n",
    "3. SQL\n",
    "4. C++\n",
    "5. Java\n",
    "\n",
    "among others."
   ]
  },
  {
   "cell_type": "markdown",
   "id": "ffe4fdb8-eecc-4bfd-ae09-6f5b82ebad5a",
   "metadata": {},
   "source": [
    "Some of the commonly used libraries used by Data Scientists include:\n",
    "\n",
    "1. TensorFlow\n",
    "2. NumPy\n",
    "3. SciPy\n",
    "4. Pandas\n",
    "5. Matplotlib\n",
    "6. Scikit-Learn\n",
    "7. Keras\n",
    "8. PyTorch\n",
    "\n",
    "among others."
   ]
  },
  {
   "cell_type": "markdown",
   "id": "4e850a98-58eb-466c-82b0-44488f3cafc7",
   "metadata": {},
   "source": [
    "| **Data Science Tools**    |\n",
    "|----------------------------|\n",
    "| Jupyter Notebook           |\n",
    "| RStudio                    |\n",
    "| Apache Spark               |\n",
    "| TensorFlow                 |\n",
    "| SAS                        |"
   ]
  },
  {
   "cell_type": "markdown",
   "id": "95fcbdb7-b1b9-42e6-ab2a-1e8c1a85313a",
   "metadata": {},
   "source": [
    "### Below are a few examples of evaluating arithmetic expressions in Python"
   ]
  },
  {
   "cell_type": "code",
   "execution_count": 1,
   "id": "1ff76cad-95a7-48a7-9fa5-e47db12d7226",
   "metadata": {},
   "outputs": [
    {
     "data": {
      "text/plain": [
       "17"
      ]
     },
     "execution_count": 1,
     "metadata": {},
     "output_type": "execute_result"
    }
   ],
   "source": [
    "# This is a simple arithmetic expression to multiply, then add integers\n",
    "(3 * 4) + 5"
   ]
  },
  {
   "cell_type": "code",
   "execution_count": 2,
   "id": "34eddb74-4815-4492-8712-8122753626b7",
   "metadata": {},
   "outputs": [
    {
     "data": {
      "text/plain": [
       "3.3333333333333335"
      ]
     },
     "execution_count": 2,
     "metadata": {},
     "output_type": "execute_result"
    }
   ],
   "source": [
    "# This will convert 200 minutes to hours by diving by 60\n",
    "200/60"
   ]
  },
  {
   "cell_type": "markdown",
   "id": "4d1b6821-d7e3-41be-bc4e-450f49c45fd1",
   "metadata": {},
   "source": [
    "__Objective__\n",
    "* List popular languages for Data Science            \n",
    "* List popular libraries for Data Science\n",
    "* List of Well-known Data Science Tools\n",
    "* How to Provide comments in the cell"
   ]
  },
  {
   "attachments": {},
   "cell_type": "markdown",
   "id": "d0281d8d-bb11-4881-a47e-2af68dd1f4bc",
   "metadata": {},
   "source": [
    "## Author\n",
    "Saul isai Arellano A.\n"
   ]
  }
 ],
 "metadata": {
  "kernelspec": {
   "display_name": "Python 3 (ipykernel)",
   "language": "python",
   "name": "python3"
  },
  "language_info": {
   "codemirror_mode": {
    "name": "ipython",
    "version": 3
   },
   "file_extension": ".py",
   "mimetype": "text/x-python",
   "name": "python",
   "nbconvert_exporter": "python",
   "pygments_lexer": "ipython3",
   "version": "3.13.1"
  }
 },
 "nbformat": 4,
 "nbformat_minor": 5
}
